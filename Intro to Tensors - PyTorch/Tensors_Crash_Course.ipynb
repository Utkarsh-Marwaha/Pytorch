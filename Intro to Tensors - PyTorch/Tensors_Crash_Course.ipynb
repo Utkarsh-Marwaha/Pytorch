{
  "nbformat": 4,
  "nbformat_minor": 0,
  "metadata": {
    "colab": {
      "name": "Tensors Crash Course.ipynb",
      "version": "0.3.2",
      "provenance": [],
      "collapsed_sections": [],
      "include_colab_link": true
    },
    "kernelspec": {
      "name": "python3",
      "display_name": "Python 3"
    }
  },
  "cells": [
    {
      "cell_type": "markdown",
      "metadata": {
        "id": "view-in-github",
        "colab_type": "text"
      },
      "source": [
        "<a href=\"https://colab.research.google.com/github/Utkarsh-Marwaha/Pytorch/blob/master/Tensors_Crash_Course.ipynb\" target=\"_parent\"><img src=\"https://colab.research.google.com/assets/colab-badge.svg\" alt=\"Open In Colab\"/></a>"
      ]
    },
    {
      "metadata": {
        "id": "LPiV-vaUa7Pc",
        "colab_type": "code",
        "colab": {
          "base_uri": "https://localhost:8080/",
          "height": 34
        },
        "outputId": "35b26f26-e985-498d-be1c-373cb790f540"
      },
      "cell_type": "code",
      "source": [
        "!pip3 install torch"
      ],
      "execution_count": 29,
      "outputs": [
        {
          "output_type": "stream",
          "text": [
            "Requirement already satisfied: torch in /usr/local/lib/python3.6/dist-packages (1.0.0)\n"
          ],
          "name": "stdout"
        }
      ]
    },
    {
      "metadata": {
        "id": "7Q6xXZ-JbMqV",
        "colab_type": "code",
        "colab": {}
      },
      "cell_type": "code",
      "source": [
        "import torch\n",
        "import numpy as np"
      ],
      "execution_count": 0,
      "outputs": []
    },
    {
      "metadata": {
        "id": "WA7m3snVbVji",
        "colab_type": "code",
        "colab": {
          "base_uri": "https://localhost:8080/",
          "height": 50
        },
        "outputId": "c6a266a6-a28e-444f-d072-76b2e4bae8d2"
      },
      "cell_type": "code",
      "source": [
        "# create a one dimesional tensor\n",
        "v = torch.tensor([1, 2, 3, 4, 5, 6])\n",
        "\n",
        "# print the content of the tensor\n",
        "print(v)\n",
        "\n",
        "# print the data type of the tensor\n",
        "print(v.dtype)\n"
      ],
      "execution_count": 31,
      "outputs": [
        {
          "output_type": "stream",
          "text": [
            "tensor([1, 2, 3, 4, 5, 6])\n",
            "torch.int64\n"
          ],
          "name": "stdout"
        }
      ]
    },
    {
      "metadata": {
        "id": "0Kq0QLvFbtUW",
        "colab_type": "code",
        "colab": {
          "base_uri": "https://localhost:8080/",
          "height": 34
        },
        "outputId": "ed161e01-51ab-4658-80c0-6964d2a55427"
      },
      "cell_type": "code",
      "source": [
        "# accessing the 0th index of our tensor\n",
        "print(v[0])"
      ],
      "execution_count": 32,
      "outputs": [
        {
          "output_type": "stream",
          "text": [
            "tensor(1)\n"
          ],
          "name": "stdout"
        }
      ]
    },
    {
      "metadata": {
        "id": "XhHDsPk0b4i0",
        "colab_type": "code",
        "colab": {
          "base_uri": "https://localhost:8080/",
          "height": 34
        },
        "outputId": "6b61a322-cba1-4614-ba66-6c7c53a2d45c"
      },
      "cell_type": "code",
      "source": [
        "# accessing the 1st index of our tensor\n",
        "print(v[1])"
      ],
      "execution_count": 33,
      "outputs": [
        {
          "output_type": "stream",
          "text": [
            "tensor(2)\n"
          ],
          "name": "stdout"
        }
      ]
    },
    {
      "metadata": {
        "id": "xnDyDKYfb98j",
        "colab_type": "code",
        "colab": {
          "base_uri": "https://localhost:8080/",
          "height": 34
        },
        "outputId": "e4a6cf30-72c2-463b-9660-99b2f4ef3610"
      },
      "cell_type": "code",
      "source": [
        "# accessing the slice from index 1 to index 4 i.e. from second element (inclusive) to fifth element (exclusive)\n",
        "print(v[1:4])"
      ],
      "execution_count": 34,
      "outputs": [
        {
          "output_type": "stream",
          "text": [
            "tensor([2, 3, 4])\n"
          ],
          "name": "stdout"
        }
      ]
    },
    {
      "metadata": {
        "id": "ufoDW9KjcRqG",
        "colab_type": "code",
        "colab": {
          "base_uri": "https://localhost:8080/",
          "height": 67
        },
        "outputId": "e04adf44-3fac-4e35-ff62-85c659d48b24"
      },
      "cell_type": "code",
      "source": [
        "# create a one dimesional tensor\n",
        "f = torch.FloatTensor([1, 2, 3, 4, 5, 6])\n",
        "\n",
        "# print the content of the float tensor\n",
        "print(f)\n",
        "\n",
        "# print the data type of the tensor\n",
        "print(f.dtype)\n",
        "\n",
        "# print the size of the tensor\n",
        "print(f.size())"
      ],
      "execution_count": 35,
      "outputs": [
        {
          "output_type": "stream",
          "text": [
            "tensor([1., 2., 3., 4., 5., 6.])\n",
            "torch.float32\n",
            "torch.Size([6])\n"
          ],
          "name": "stdout"
        }
      ]
    },
    {
      "metadata": {
        "id": "xwsOP2Tec1dI",
        "colab_type": "code",
        "colab": {
          "base_uri": "https://localhost:8080/",
          "height": 118
        },
        "outputId": "b670d8c2-ca61-496d-b1a0-0192d11317b1"
      },
      "cell_type": "code",
      "source": [
        "# let us restructure the tensor so that it has 6 rows of data and a single column\n",
        "v.view(6, 1) # very similar to the reshape method used in numpy\n",
        "\n",
        "# Make sure that the new shape/structure of the tensor is compatible with the original one i.e. the number of elements should remain the same before and after the reshape."
      ],
      "execution_count": 36,
      "outputs": [
        {
          "output_type": "execute_result",
          "data": {
            "text/plain": [
              "tensor([[1],\n",
              "        [2],\n",
              "        [3],\n",
              "        [4],\n",
              "        [5],\n",
              "        [6]])"
            ]
          },
          "metadata": {
            "tags": []
          },
          "execution_count": 36
        }
      ]
    },
    {
      "metadata": {
        "id": "zEaiHFPOd3tc",
        "colab_type": "code",
        "colab": {
          "base_uri": "https://localhost:8080/",
          "height": 67
        },
        "outputId": "94c25cb8-a0fb-42bb-c3bb-8aad21e33972"
      },
      "cell_type": "code",
      "source": [
        "# If we were to reshape the tensor to 3 rows and -1 cols then\n",
        "v.view(3, -1)\n",
        "\n",
        "# the value of the cols will be inferred automatically based on the length of the tensor\n",
        "# The fact that the length of the tensor is 6 and the number of rows is 3, therefore the cols must be 2 for the new shape to be compatible."
      ],
      "execution_count": 37,
      "outputs": [
        {
          "output_type": "execute_result",
          "data": {
            "text/plain": [
              "tensor([[1, 2],\n",
              "        [3, 4],\n",
              "        [5, 6]])"
            ]
          },
          "metadata": {
            "tags": []
          },
          "execution_count": 37
        }
      ]
    },
    {
      "metadata": {
        "id": "9pbcMNREfhr2",
        "colab_type": "code",
        "colab": {}
      },
      "cell_type": "code",
      "source": [
        "# There will be many instances when we recieve our data in the form of numpy arrays which we have to convert to tensors\n",
        "a = np.array([1, 2, 3, 4, 5])"
      ],
      "execution_count": 0,
      "outputs": []
    },
    {
      "metadata": {
        "id": "s5uzMBiZgIMY",
        "colab_type": "code",
        "colab": {
          "base_uri": "https://localhost:8080/",
          "height": 50
        },
        "outputId": "a07e946b-8179-4e15-866b-8815c4af5e8b"
      },
      "cell_type": "code",
      "source": [
        "# Convert the numpy array to tensor\n",
        "tensor_cnv = torch.from_numpy(a)\n",
        "\n",
        "# print the converted tensor\n",
        "print(tensor_cnv)\n",
        "\n",
        "# print the type of the tensor\n",
        "print(tensor_cnv.type())"
      ],
      "execution_count": 39,
      "outputs": [
        {
          "output_type": "stream",
          "text": [
            "tensor([1, 2, 3, 4, 5])\n",
            "torch.LongTensor\n"
          ],
          "name": "stdout"
        }
      ]
    },
    {
      "metadata": {
        "id": "VuZcxD1vgg0y",
        "colab_type": "code",
        "colab": {
          "base_uri": "https://localhost:8080/",
          "height": 50
        },
        "outputId": "41d67c25-3219-4234-f794-25952d5bec49"
      },
      "cell_type": "code",
      "source": [
        "# Convert the tensor into a numpy array\n",
        "numpy_cnv = tensor_cnv.numpy()\n",
        "\n",
        "# print the converted numpy array\n",
        "print(numpy_cnv)\n",
        "\n",
        "# print the type of the numpy array\n",
        "print(numpy_cnv.dtype)\n",
        "\n"
      ],
      "execution_count": 40,
      "outputs": [
        {
          "output_type": "stream",
          "text": [
            "[1 2 3 4 5]\n",
            "int64\n"
          ],
          "name": "stdout"
        }
      ]
    }
  ]
}