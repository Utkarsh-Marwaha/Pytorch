{
  "nbformat": 4,
  "nbformat_minor": 0,
  "metadata": {
    "colab": {
      "name": "Matrix_Multiplication.ipynb",
      "version": "0.3.2",
      "provenance": [],
      "collapsed_sections": [],
      "include_colab_link": true
    },
    "kernelspec": {
      "name": "python3",
      "display_name": "Python 3"
    }
  },
  "cells": [
    {
      "cell_type": "markdown",
      "metadata": {
        "id": "view-in-github",
        "colab_type": "text"
      },
      "source": [
        "<a href=\"https://colab.research.google.com/github/Utkarsh-Marwaha/Pytorch/blob/master/Matrix_Multiplication.ipynb\" target=\"_parent\"><img src=\"https://colab.research.google.com/assets/colab-badge.svg\" alt=\"Open In Colab\"/></a>"
      ]
    },
    {
      "metadata": {
        "id": "0oVODkIp9Z9S",
        "colab_type": "code",
        "colab": {
          "base_uri": "https://localhost:8080/",
          "height": 34
        },
        "outputId": "2d60187b-bf90-4390-c6de-aa6f8b4011dd"
      },
      "cell_type": "code",
      "source": [
        "!pip3 install torch"
      ],
      "execution_count": 1,
      "outputs": [
        {
          "output_type": "stream",
          "text": [
            "Requirement already satisfied: torch in /usr/local/lib/python3.6/dist-packages (1.0.0)\n"
          ],
          "name": "stdout"
        }
      ]
    },
    {
      "metadata": {
        "id": "Ecem30fQ96oO",
        "colab_type": "code",
        "colab": {}
      },
      "cell_type": "code",
      "source": [
        "import torch"
      ],
      "execution_count": 0,
      "outputs": []
    },
    {
      "metadata": {
        "id": "8HFcdWge98hg",
        "colab_type": "code",
        "colab": {
          "base_uri": "https://localhost:8080/",
          "height": 50
        },
        "outputId": "6d6a174e-426f-4403-e7ce-46d3a8f5df50"
      },
      "cell_type": "code",
      "source": [
        "# Creating a 2 x 3 matrix with the following elements\n",
        "matrix_a = torch.tensor([0, 3, 5, 5, 5, 2]).view(2, 3)\n",
        "\n",
        "# print the matrix\n",
        "print(matrix_a)"
      ],
      "execution_count": 4,
      "outputs": [
        {
          "output_type": "stream",
          "text": [
            "tensor([[0, 3, 5],\n",
            "        [5, 5, 2]])\n"
          ],
          "name": "stdout"
        }
      ]
    },
    {
      "metadata": {
        "id": "zaczkq-5-S6u",
        "colab_type": "code",
        "colab": {
          "base_uri": "https://localhost:8080/",
          "height": 67
        },
        "outputId": "a1923e49-39fc-445f-ea7a-137249f42470"
      },
      "cell_type": "code",
      "source": [
        "# Creating a 3 x 2 matrix with the following elements\n",
        "matrix_b = torch.tensor([3, 4, 3, -2, 4, -2]).view(3, 2)\n",
        "\n",
        "# print the matrix\n",
        "print(matrix_b)"
      ],
      "execution_count": 5,
      "outputs": [
        {
          "output_type": "stream",
          "text": [
            "tensor([[ 3,  4],\n",
            "        [ 3, -2],\n",
            "        [ 4, -2]])\n"
          ],
          "name": "stdout"
        }
      ]
    },
    {
      "metadata": {
        "id": "sug2FS7B-kJt",
        "colab_type": "code",
        "colab": {
          "base_uri": "https://localhost:8080/",
          "height": 50
        },
        "outputId": "6b7cc6c3-1883-4db0-d846-4cfcc226d566"
      },
      "cell_type": "code",
      "source": [
        "# conduct matrix multiplication between the two tensors\n",
        "torch.matmul(matrix_a, matrix_b)"
      ],
      "execution_count": 6,
      "outputs": [
        {
          "output_type": "execute_result",
          "data": {
            "text/plain": [
              "tensor([[ 29, -16],\n",
              "        [ 38,   6]])"
            ]
          },
          "metadata": {
            "tags": []
          },
          "execution_count": 6
        }
      ]
    },
    {
      "metadata": {
        "id": "MEbDebbK-x67",
        "colab_type": "code",
        "colab": {
          "base_uri": "https://localhost:8080/",
          "height": 50
        },
        "outputId": "1d6cab29-ff4d-4d8f-eb83-c9e607cf95e5"
      },
      "cell_type": "code",
      "source": [
        "# The same matrix multiplication can be performed using the following: -\n",
        "matrix_a @ matrix_b"
      ],
      "execution_count": 7,
      "outputs": [
        {
          "output_type": "execute_result",
          "data": {
            "text/plain": [
              "tensor([[ 29, -16],\n",
              "        [ 38,   6]])"
            ]
          },
          "metadata": {
            "tags": []
          },
          "execution_count": 7
        }
      ]
    }
  ]
}