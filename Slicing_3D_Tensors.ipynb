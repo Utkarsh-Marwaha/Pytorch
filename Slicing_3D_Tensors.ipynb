{
  "nbformat": 4,
  "nbformat_minor": 0,
  "metadata": {
    "colab": {
      "name": "Slicing_3D_Tensors.ipynb",
      "version": "0.3.2",
      "provenance": [],
      "collapsed_sections": [],
      "include_colab_link": true
    },
    "kernelspec": {
      "name": "python3",
      "display_name": "Python 3"
    }
  },
  "cells": [
    {
      "cell_type": "markdown",
      "metadata": {
        "id": "view-in-github",
        "colab_type": "text"
      },
      "source": [
        "<a href=\"https://colab.research.google.com/github/Utkarsh-Marwaha/Pytorch/blob/master/Slicing_3D_Tensors.ipynb\" target=\"_parent\"><img src=\"https://colab.research.google.com/assets/colab-badge.svg\" alt=\"Open In Colab\"/></a>"
      ]
    },
    {
      "metadata": {
        "id": "iN0f6Edn3BCo",
        "colab_type": "code",
        "colab": {
          "base_uri": "https://localhost:8080/",
          "height": 34
        },
        "outputId": "e04646a4-df71-49f7-d573-92322c1b2cf5"
      },
      "cell_type": "code",
      "source": [
        "!pip3 install torch"
      ],
      "execution_count": 1,
      "outputs": [
        {
          "output_type": "stream",
          "text": [
            "Requirement already satisfied: torch in /usr/local/lib/python3.6/dist-packages (1.0.0)\n"
          ],
          "name": "stdout"
        }
      ]
    },
    {
      "metadata": {
        "id": "mJNiCl1S3JiB",
        "colab_type": "code",
        "colab": {}
      },
      "cell_type": "code",
      "source": [
        "import torch"
      ],
      "execution_count": 0,
      "outputs": []
    },
    {
      "metadata": {
        "id": "fGFmXQOf3Lb4",
        "colab_type": "code",
        "colab": {
          "base_uri": "https://localhost:8080/",
          "height": 168
        },
        "outputId": "b24df656-68ec-41f5-ddff-4306d4b863d1"
      },
      "cell_type": "code",
      "source": [
        "# create a 3D tensor\n",
        "x = torch.arange(0, 18).view(3, 2, 3)\n",
        "\n",
        "# print the 3D tensor\n",
        "print(x)\n",
        "\n",
        "# verify the dimensions of the tensor\n",
        "print(x.dim())"
      ],
      "execution_count": 4,
      "outputs": [
        {
          "output_type": "stream",
          "text": [
            "tensor([[[ 0,  1,  2],\n",
            "         [ 3,  4,  5]],\n",
            "\n",
            "        [[ 6,  7,  8],\n",
            "         [ 9, 10, 11]],\n",
            "\n",
            "        [[12, 13, 14],\n",
            "         [15, 16, 17]]])\n",
            "3\n"
          ],
          "name": "stdout"
        }
      ]
    },
    {
      "metadata": {
        "id": "5vuo_9dl3cyn",
        "colab_type": "code",
        "colab": {
          "base_uri": "https://localhost:8080/",
          "height": 34
        },
        "outputId": "fb5883d2-7e26-40d8-8e4b-94be9a8faa13"
      },
      "cell_type": "code",
      "source": [
        "# Let us access the element with value 10\n",
        "# This element is present on the second matrix, second row and second column\n",
        "print(x[1, 1, 1])"
      ],
      "execution_count": 5,
      "outputs": [
        {
          "output_type": "stream",
          "text": [
            "tensor(10)\n"
          ],
          "name": "stdout"
        }
      ]
    },
    {
      "metadata": {
        "id": "ROuXnPo13_g6",
        "colab_type": "code",
        "colab": {
          "base_uri": "https://localhost:8080/",
          "height": 50
        },
        "outputId": "d365e5b6-f1fd-4e30-c341-9149281f19c7"
      },
      "cell_type": "code",
      "source": [
        "# Let us slice the numbers 6 to 11\n",
        "print(x[1, :, :])"
      ],
      "execution_count": 7,
      "outputs": [
        {
          "output_type": "stream",
          "text": [
            "tensor([[ 6,  7,  8],\n",
            "        [ 9, 10, 11]])\n"
          ],
          "name": "stdout"
        }
      ]
    }
  ]
}