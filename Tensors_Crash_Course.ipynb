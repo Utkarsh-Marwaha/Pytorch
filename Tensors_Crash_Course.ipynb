{
  "nbformat": 4,
  "nbformat_minor": 0,
  "metadata": {
    "colab": {
      "name": "Tensors Crash Course.ipynb",
      "version": "0.3.2",
      "provenance": [],
      "collapsed_sections": []
    },
    "kernelspec": {
      "name": "python3",
      "display_name": "Python 3"
    }
  },
  "cells": [
    {
      "metadata": {
        "id": "LPiV-vaUa7Pc",
        "colab_type": "code",
        "colab": {
          "base_uri": "https://localhost:8080/",
          "height": 34
        },
        "outputId": "77f35ad4-6815-48a4-d050-00c9d04bfb5b"
      },
      "cell_type": "code",
      "source": [
        "!pip3 install torch"
      ],
      "execution_count": 2,
      "outputs": [
        {
          "output_type": "stream",
          "text": [
            "Requirement already satisfied: torch in /usr/local/lib/python3.6/dist-packages (1.0.0)\n"
          ],
          "name": "stdout"
        }
      ]
    },
    {
      "metadata": {
        "id": "7Q6xXZ-JbMqV",
        "colab_type": "code",
        "colab": {}
      },
      "cell_type": "code",
      "source": [
        "import torch\n",
        "import numpy as np"
      ],
      "execution_count": 0,
      "outputs": []
    },
    {
      "metadata": {
        "id": "WA7m3snVbVji",
        "colab_type": "code",
        "colab": {
          "base_uri": "https://localhost:8080/",
          "height": 50
        },
        "outputId": "80782f83-64a2-4018-bffd-450138507925"
      },
      "cell_type": "code",
      "source": [
        "# create a one dimesional tensor\n",
        "v = torch.tensor([1, 2, 3, 4, 5, 6])\n",
        "\n",
        "# print the content of the tensor\n",
        "print(v)\n",
        "\n",
        "# print the data type of the tensor\n",
        "print(v.dtype)\n"
      ],
      "execution_count": 10,
      "outputs": [
        {
          "output_type": "stream",
          "text": [
            "tensor([1, 2, 3, 4, 5, 6])\n",
            "torch.int64\n"
          ],
          "name": "stdout"
        }
      ]
    },
    {
      "metadata": {
        "id": "0Kq0QLvFbtUW",
        "colab_type": "code",
        "colab": {
          "base_uri": "https://localhost:8080/",
          "height": 34
        },
        "outputId": "db3961e9-66b5-4cd6-9f8d-5bf9cb62e3d2"
      },
      "cell_type": "code",
      "source": [
        "# accessing the 0th index of our tensor\n",
        "print(v[0])"
      ],
      "execution_count": 11,
      "outputs": [
        {
          "output_type": "stream",
          "text": [
            "tensor(1)\n"
          ],
          "name": "stdout"
        }
      ]
    },
    {
      "metadata": {
        "id": "XhHDsPk0b4i0",
        "colab_type": "code",
        "colab": {
          "base_uri": "https://localhost:8080/",
          "height": 34
        },
        "outputId": "31b66ada-e773-4986-db0f-f71a3931b70e"
      },
      "cell_type": "code",
      "source": [
        "# accessing the 1st index of our tensor\n",
        "print(v[1])"
      ],
      "execution_count": 12,
      "outputs": [
        {
          "output_type": "stream",
          "text": [
            "tensor(2)\n"
          ],
          "name": "stdout"
        }
      ]
    },
    {
      "metadata": {
        "id": "xnDyDKYfb98j",
        "colab_type": "code",
        "colab": {
          "base_uri": "https://localhost:8080/",
          "height": 34
        },
        "outputId": "ec2300b1-c275-409b-bdf8-15b67be45ca1"
      },
      "cell_type": "code",
      "source": [
        "# accessing the slice from index 1 to index 4 i.e. from second element (inclusive) to fifth element (exclusive)\n",
        "print(v[1:4])"
      ],
      "execution_count": 13,
      "outputs": [
        {
          "output_type": "stream",
          "text": [
            "tensor([2, 3, 4])\n"
          ],
          "name": "stdout"
        }
      ]
    },
    {
      "metadata": {
        "id": "ufoDW9KjcRqG",
        "colab_type": "code",
        "colab": {
          "base_uri": "https://localhost:8080/",
          "height": 67
        },
        "outputId": "10132850-51ba-46ed-9f13-96849fdffeb5"
      },
      "cell_type": "code",
      "source": [
        "# create a one dimesional tensor\n",
        "f = torch.FloatTensor([1, 2, 3, 4, 5, 6])\n",
        "\n",
        "# print the content of the float tensor\n",
        "print(f)\n",
        "\n",
        "# print the data type of the tensor\n",
        "print(f.dtype)\n",
        "\n",
        "# print the size of the tensor\n",
        "print(f.size())"
      ],
      "execution_count": 16,
      "outputs": [
        {
          "output_type": "stream",
          "text": [
            "tensor([1., 2., 3., 4., 5., 6.])\n",
            "torch.float32\n",
            "torch.Size([6])\n"
          ],
          "name": "stdout"
        }
      ]
    },
    {
      "metadata": {
        "id": "xwsOP2Tec1dI",
        "colab_type": "code",
        "colab": {
          "base_uri": "https://localhost:8080/",
          "height": 118
        },
        "outputId": "21fd7b24-b876-4d0a-9888-57a03fc600ed"
      },
      "cell_type": "code",
      "source": [
        "# let us restructure the tensor so that it has 6 rows of data and a single column\n",
        "v.view(6, 1) # very similar to the reshape method used in numpy\n",
        "\n",
        "# Make sure that the new shape/structure of the tensor is compatible with the original one i.e. the number of elements should remain the same before and after the reshape."
      ],
      "execution_count": 18,
      "outputs": [
        {
          "output_type": "execute_result",
          "data": {
            "text/plain": [
              "tensor([[1],\n",
              "        [2],\n",
              "        [3],\n",
              "        [4],\n",
              "        [5],\n",
              "        [6]])"
            ]
          },
          "metadata": {
            "tags": []
          },
          "execution_count": 18
        }
      ]
    },
    {
      "metadata": {
        "id": "zEaiHFPOd3tc",
        "colab_type": "code",
        "colab": {
          "base_uri": "https://localhost:8080/",
          "height": 67
        },
        "outputId": "ec42b423-e29a-42f4-e8a5-f0de3f964e47"
      },
      "cell_type": "code",
      "source": [
        "# If we were to reshape the tensor to 3 rows and -1 cols then\n",
        "v.view(3, -1)\n",
        "\n",
        "# the value of the cols will be inferred automatically based on the length of the tensor\n",
        "# The fact that the length of the tensor is 6 and the number of rows is 3, therefore the cols must be 2 for the new shape to be compatible."
      ],
      "execution_count": 19,
      "outputs": [
        {
          "output_type": "execute_result",
          "data": {
            "text/plain": [
              "tensor([[1, 2],\n",
              "        [3, 4],\n",
              "        [5, 6]])"
            ]
          },
          "metadata": {
            "tags": []
          },
          "execution_count": 19
        }
      ]
    },
    {
      "metadata": {
        "id": "9pbcMNREfhr2",
        "colab_type": "code",
        "colab": {}
      },
      "cell_type": "code",
      "source": [
        "# There will be many instances when we recieve our data in the form of numpy arrays which we have to convert to tensors\n",
        "a = np.array([1, 2, 3, 4, 5])"
      ],
      "execution_count": 0,
      "outputs": []
    },
    {
      "metadata": {
        "id": "s5uzMBiZgIMY",
        "colab_type": "code",
        "colab": {
          "base_uri": "https://localhost:8080/",
          "height": 50
        },
        "outputId": "f2d79018-94c4-4336-f2f3-963216dcd392"
      },
      "cell_type": "code",
      "source": [
        "# Convert the numpy array to tensor\n",
        "tensor_cnv = torch.from_numpy(a)\n",
        "\n",
        "# print the converted tensor\n",
        "print(tensor_cnv)\n",
        "\n",
        "# print the type of the tensor\n",
        "print(tensor_cnv.type())"
      ],
      "execution_count": 25,
      "outputs": [
        {
          "output_type": "stream",
          "text": [
            "tensor([1, 2, 3, 4, 5])\n",
            "torch.LongTensor\n"
          ],
          "name": "stdout"
        }
      ]
    },
    {
      "metadata": {
        "id": "VuZcxD1vgg0y",
        "colab_type": "code",
        "colab": {
          "base_uri": "https://localhost:8080/",
          "height": 50
        },
        "outputId": "3f17f037-14b9-4b97-c20b-9c3ec3f6360b"
      },
      "cell_type": "code",
      "source": [
        "# Convert the tensor into a numpy array\n",
        "numpy_cnv = tensor_cnv.numpy()\n",
        "\n",
        "# print the converted numpy array\n",
        "print(numpy_cnv)\n",
        "\n",
        "# print the type of the numpy array\n",
        "print(numpy_cnv.dtype)\n",
        "\n"
      ],
      "execution_count": 28,
      "outputs": [
        {
          "output_type": "stream",
          "text": [
            "[1 2 3 4 5]\n",
            "int64\n"
          ],
          "name": "stdout"
        }
      ]
    },
    {
      "metadata": {
        "id": "urT5SdSMgabb",
        "colab_type": "code",
        "colab": {}
      },
      "cell_type": "code",
      "source": [
        ""
      ],
      "execution_count": 0,
      "outputs": []
    },
    {
      "metadata": {
        "id": "hC5s7YV9gUUA",
        "colab_type": "code",
        "colab": {}
      },
      "cell_type": "code",
      "source": [
        ""
      ],
      "execution_count": 0,
      "outputs": []
    },
    {
      "metadata": {
        "id": "MN8B42TvdTPR",
        "colab_type": "code",
        "colab": {}
      },
      "cell_type": "code",
      "source": [
        ""
      ],
      "execution_count": 0,
      "outputs": []
    },
    {
      "metadata": {
        "id": "nUuHJzLtbh4e",
        "colab_type": "code",
        "colab": {}
      },
      "cell_type": "code",
      "source": [
        ""
      ],
      "execution_count": 0,
      "outputs": []
    },
    {
      "metadata": {
        "id": "fBAhNT9cbeNq",
        "colab_type": "code",
        "colab": {}
      },
      "cell_type": "code",
      "source": [
        ""
      ],
      "execution_count": 0,
      "outputs": []
    }
  ]
}