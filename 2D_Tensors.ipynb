{
  "nbformat": 4,
  "nbformat_minor": 0,
  "metadata": {
    "colab": {
      "name": "2D Tensors.ipynb",
      "version": "0.3.2",
      "provenance": [],
      "collapsed_sections": [],
      "include_colab_link": true
    },
    "kernelspec": {
      "name": "python3",
      "display_name": "Python 3"
    }
  },
  "cells": [
    {
      "cell_type": "markdown",
      "metadata": {
        "id": "view-in-github",
        "colab_type": "text"
      },
      "source": [
        "<a href=\"https://colab.research.google.com/github/Utkarsh-Marwaha/Pytorch/blob/master/2D_Tensors.ipynb\" target=\"_parent\"><img src=\"https://colab.research.google.com/assets/colab-badge.svg\" alt=\"Open In Colab\"/></a>"
      ]
    },
    {
      "metadata": {
        "id": "_QeV5NQTp0xo",
        "colab_type": "code",
        "colab": {
          "base_uri": "https://localhost:8080/",
          "height": 34
        },
        "outputId": "3a6a392e-c5c1-41de-843c-18dbc2d702c7"
      },
      "cell_type": "code",
      "source": [
        "!pip install torch"
      ],
      "execution_count": 1,
      "outputs": [
        {
          "output_type": "stream",
          "text": [
            "Requirement already satisfied: torch in /usr/local/lib/python3.6/dist-packages (1.0.0)\n"
          ],
          "name": "stdout"
        }
      ]
    },
    {
      "metadata": {
        "id": "vX5jw02IvAkM",
        "colab_type": "text"
      },
      "cell_type": "markdown",
      "source": [
        "Two dimensional Tensors can essentially by thought of as matrices with some number of rows and some number of columns. One typically deals with 2D tensors while workings with gray scale image. Since a gray scale image is basically a 2D matrix of pixels with each pixel's intensity denoted by a numerical value between 0 (no intensity = black) and 255 (full intensity = white).\n",
        "\n",
        "This being said, tensors can be extended to 3D,  4D, 5D and so on.\n"
      ]
    },
    {
      "metadata": {
        "id": "TI7AP2Sdw9GB",
        "colab_type": "code",
        "colab": {}
      },
      "cell_type": "code",
      "source": [
        "import torch"
      ],
      "execution_count": 0,
      "outputs": []
    },
    {
      "metadata": {
        "id": "VDBjsxXJvmsQ",
        "colab_type": "code",
        "colab": {
          "base_uri": "https://localhost:8080/",
          "height": 34
        },
        "outputId": "3e31a32d-c3ce-41cf-ed29-ef6d4b6d896c"
      },
      "cell_type": "code",
      "source": [
        "# create a one dimensional tensor\n",
        "one_d = torch.arange(0, 9)\n",
        "\n",
        "# print the one dimensional tensor\n",
        "print(one_d)"
      ],
      "execution_count": 5,
      "outputs": [
        {
          "output_type": "stream",
          "text": [
            "tensor([0, 1, 2, 3, 4, 5, 6, 7, 8])\n"
          ],
          "name": "stdout"
        }
      ]
    },
    {
      "metadata": {
        "id": "M_Qc4MkJxeMd",
        "colab_type": "code",
        "colab": {
          "base_uri": "https://localhost:8080/",
          "height": 84
        },
        "outputId": "45f75fcf-e554-4918-addf-523281b66613"
      },
      "cell_type": "code",
      "source": [
        "# reshaping the 1D tensor into a 2D tensor\n",
        "two_d = one_d.view(3, 3) # 3 rows and 3 cols\n",
        "\n",
        "# print the 2 dimensional tensor\n",
        "print(two_d)\n",
        "\n",
        "# print the number of dimensions of the tensor\n",
        "print(two_d.dim())"
      ],
      "execution_count": 8,
      "outputs": [
        {
          "output_type": "stream",
          "text": [
            "tensor([[0, 1, 2],\n",
            "        [3, 4, 5],\n",
            "        [6, 7, 8]])\n",
            "2\n"
          ],
          "name": "stdout"
        }
      ]
    },
    {
      "metadata": {
        "id": "sS8PMEnixX0d",
        "colab_type": "code",
        "colab": {
          "base_uri": "https://localhost:8080/",
          "height": 34
        },
        "outputId": "bebab354-b87f-4933-e9d1-44490c4c467a"
      },
      "cell_type": "code",
      "source": [
        "# accessing the first element of the 2D tensor\n",
        "print(two_d[0, 0])"
      ],
      "execution_count": 11,
      "outputs": [
        {
          "output_type": "stream",
          "text": [
            "tensor(0)\n"
          ],
          "name": "stdout"
        }
      ]
    },
    {
      "metadata": {
        "id": "WZZ6ZdLCzYnn",
        "colab_type": "code",
        "colab": {
          "base_uri": "https://localhost:8080/",
          "height": 34
        },
        "outputId": "a0b0f8f5-21c8-4c37-af01-4806b1f6322a"
      },
      "cell_type": "code",
      "source": [
        "# accessing element with value 5\n",
        "# This element is present on the second row and the third column\n",
        "print(two_d[1, 2])"
      ],
      "execution_count": 12,
      "outputs": [
        {
          "output_type": "stream",
          "text": [
            "tensor(5)\n"
          ],
          "name": "stdout"
        }
      ]
    },
    {
      "metadata": {
        "id": "l2W-RGwXzyFG",
        "colab_type": "code",
        "colab": {
          "base_uri": "https://localhost:8080/",
          "height": 151
        },
        "outputId": "de611899-2381-45df-8d90-44d5b8e342e6"
      },
      "cell_type": "code",
      "source": [
        "# Creating a 3D tensor\n",
        "x = torch.arange(0, 18).view(2, 3, 3)\n",
        "# since there are 18 elements in the tensore therefore dims have to be \n",
        "# compatible i.e. d1 * d2 * d3 = number of elements\n",
        "\n",
        "# print the 3D tensor\n",
        "print(x)\n",
        "\n",
        "# print the number of dimensions of the tensor\n",
        "print(x.dim())"
      ],
      "execution_count": 15,
      "outputs": [
        {
          "output_type": "stream",
          "text": [
            "tensor([[[ 0,  1,  2],\n",
            "         [ 3,  4,  5],\n",
            "         [ 6,  7,  8]],\n",
            "\n",
            "        [[ 9, 10, 11],\n",
            "         [12, 13, 14],\n",
            "         [15, 16, 17]]])\n",
            "3\n"
          ],
          "name": "stdout"
        }
      ]
    }
  ]
}